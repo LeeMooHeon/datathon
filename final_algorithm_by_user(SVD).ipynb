{
  "nbformat": 4,
  "nbformat_minor": 0,
  "metadata": {
    "colab": {
      "provenance": [],
      "collapsed_sections": [
        "XgDESMHkk8BA"
      ],
      "machine_shape": "hm",
      "mount_file_id": "1uriNb0kmhDnaCczrT5RtcyiWGSqYm8QR",
      "authorship_tag": "ABX9TyNGfKpSSqxwRWK+RiIQkjnU",
      "include_colab_link": true
    },
    "kernelspec": {
      "name": "python3",
      "display_name": "Python 3"
    },
    "language_info": {
      "name": "python"
    }
  },
  "cells": [
    {
      "cell_type": "markdown",
      "metadata": {
        "id": "view-in-github",
        "colab_type": "text"
      },
      "source": [
        "<a href=\"https://colab.research.google.com/github/LeeMooHeon/muhun/blob/main/final_algorithm_by_user(SVD).ipynb\" target=\"_parent\"><img src=\"https://colab.research.google.com/assets/colab-badge.svg\" alt=\"Open In Colab\"/></a>"
      ]
    },
    {
      "cell_type": "code",
      "execution_count": 1,
      "metadata": {
        "id": "vcFQ8Cr18dOZ"
      },
      "outputs": [],
      "source": [
        "\n",
        "\n",
        "import pandas as pd\n",
        "import numpy as np\n",
        "import matplotlib.pyplot as plt"
      ]
    },
    {
      "cell_type": "markdown",
      "source": [
        "# **한글**"
      ],
      "metadata": {
        "id": "RwgBsZntR13-"
      }
    },
    {
      "cell_type": "code",
      "source": [
        "!sudo apt-get install -y fonts-nanum\n",
        "!sudo fc-cache -fv\n",
        "!rm ~/.cache/matplotlib -rf\n",
        "\n",
        "\n",
        "plt.rc('font', family='NanumGothic')\n",
        "plt.rcParams['axes.unicode_minus'] =False"
      ],
      "metadata": {
        "id": "WK7w7ENPKn1l",
        "colab": {
          "base_uri": "https://localhost:8080/"
        },
        "outputId": "987a8ebd-4065-44c5-af47-9352570c17b5"
      },
      "execution_count": 2,
      "outputs": [
        {
          "output_type": "stream",
          "name": "stdout",
          "text": [
            "Reading package lists... Done\n",
            "Building dependency tree... Done\n",
            "Reading state information... Done\n",
            "fonts-nanum is already the newest version (20200506-1).\n",
            "0 upgraded, 0 newly installed, 0 to remove and 35 not upgraded.\n",
            "/usr/share/fonts: caching, new cache contents: 0 fonts, 1 dirs\n",
            "/usr/share/fonts/truetype: caching, new cache contents: 0 fonts, 3 dirs\n",
            "/usr/share/fonts/truetype/humor-sans: caching, new cache contents: 1 fonts, 0 dirs\n",
            "/usr/share/fonts/truetype/liberation: caching, new cache contents: 16 fonts, 0 dirs\n",
            "/usr/share/fonts/truetype/nanum: caching, new cache contents: 12 fonts, 0 dirs\n",
            "/usr/local/share/fonts: caching, new cache contents: 0 fonts, 0 dirs\n",
            "/root/.local/share/fonts: skipping, no such directory\n",
            "/root/.fonts: skipping, no such directory\n",
            "/usr/share/fonts/truetype: skipping, looped directory detected\n",
            "/usr/share/fonts/truetype/humor-sans: skipping, looped directory detected\n",
            "/usr/share/fonts/truetype/liberation: skipping, looped directory detected\n",
            "/usr/share/fonts/truetype/nanum: skipping, looped directory detected\n",
            "/var/cache/fontconfig: cleaning cache directory\n",
            "/root/.cache/fontconfig: not cleaning non-existent cache directory\n",
            "/root/.fontconfig: not cleaning non-existent cache directory\n",
            "fc-cache: succeeded\n"
          ]
        }
      ]
    },
    {
      "cell_type": "markdown",
      "source": [
        "# **데이터 불러오기 및 전처리**"
      ],
      "metadata": {
        "id": "o2JV2ApIR5hj"
      }
    },
    {
      "cell_type": "code",
      "source": [
        "from google.colab import drive\n",
        "\n",
        "# 1. 구글 드라이브 마운트\n",
        "drive.mount('/content/drive')\n",
        "\n",
        "# 2. 데이터 불러오기\n",
        "base_path = \"/content/drive/MyDrive\"\n",
        "\n",
        "links = pd.read_csv(f\"{base_path}/links.csv\")\n",
        "movies = pd.read_csv(f\"{base_path}/movies.csv\")\n",
        "ratings = pd.read_csv(f\"{base_path}/ratings.csv\")\n",
        "tags = pd.read_csv(f\"{base_path}/tags.csv\")\n",
        "\n",
        "\n",
        "\n",
        "# 확인\n",
        "#print(links.shape, movies.shape, ratings.shape, tags.shape)\n",
        "#"
      ],
      "metadata": {
        "id": "eDQosfTd7uam",
        "colab": {
          "base_uri": "https://localhost:8080/"
        },
        "outputId": "1d3375fb-35f7-4595-953d-57d7622c85a5"
      },
      "execution_count": 3,
      "outputs": [
        {
          "output_type": "stream",
          "name": "stdout",
          "text": [
            "Drive already mounted at /content/drive; to attempt to forcibly remount, call drive.mount(\"/content/drive\", force_remount=True).\n"
          ]
        }
      ]
    },
    {
      "cell_type": "code",
      "source": [
        "\n",
        "# ratings, tags의 timestamp를 datetime으로 변환\n",
        "ratings['timestamp'] = pd.to_datetime(ratings['timestamp'], unit='s')\n",
        "tags['timestamp'] = pd.to_datetime(tags['timestamp'], unit='s')\n",
        "\n",
        "# 2020년 1월 1일 이후 데이터만 추출\n",
        "cutoff_date = pd.Timestamp('2020-01-01')\n",
        "ratings = ratings[ratings['timestamp'] >= cutoff_date].copy()\n",
        "tags = tags[tags['timestamp'] >= cutoff_date].copy()\n",
        "\n",
        "# movies, links도 ratings 기준으로 필터링\n",
        "movie_ids = ratings['movieId'].unique()\n",
        "movies = movies[movies['movieId'].isin(movie_ids)].copy()\n",
        "links = links[links['movieId'].isin(movie_ids)].copy()\n",
        "\n",
        "# 마지막 날짜 확인\n",
        "last_rating_date = ratings['timestamp'].max()\n",
        "last_tag_date = tags['timestamp'].max()\n",
        "\n",
        "# 확인\n",
        "print(\"ratings shape:\", ratings.shape)\n",
        "#print(\"tags shape:\", tags.shape)\n",
        "#print(\"movies shape:\", movies.shape)\n",
        "#print(\"links shape:\", links.shape)\n",
        "#print(\"ratings 마지막 날짜:\", last_rating_date)\n",
        "#print(\"tags 마지막 날짜:\", last_tag_date)\n"
      ],
      "metadata": {
        "id": "ta7y8aja9x1Z",
        "colab": {
          "base_uri": "https://localhost:8080/"
        },
        "outputId": "6a06f6df-4894-4e59-a404-57365062818e"
      },
      "execution_count": 4,
      "outputs": [
        {
          "output_type": "stream",
          "name": "stdout",
          "text": [
            "ratings shape: (4635230, 4)\n"
          ]
        }
      ]
    },
    {
      "cell_type": "markdown",
      "source": [
        "# **Heavy Rater 가중치 설정**"
      ],
      "metadata": {
        "id": "yu5sfOoXk2IA"
      }
    },
    {
      "cell_type": "code",
      "source": [
        "\n",
        "user_stats = ratings.groupby(\"userId\").agg(rating_count=(\"rating\",\"count\")).reset_index()\n",
        "threshold = np.percentile(user_stats[\"rating_count\"], 90)\n",
        "heavy_raters = set(user_stats[user_stats[\"rating_count\"] >= threshold][\"userId\"])\n",
        "\n",
        "ratings['weight_hr'] = np.where(ratings['userId'].isin(heavy_raters), 1.2, 1.0)\n"
      ],
      "metadata": {
        "id": "xeG_4O2Oknse"
      },
      "execution_count": 5,
      "outputs": []
    },
    {
      "cell_type": "markdown",
      "source": [
        "# **Content Age 가중치 설정**"
      ],
      "metadata": {
        "id": "ea8Un1qnbU9s"
      }
    },
    {
      "cell_type": "code",
      "source": [
        "\n",
        "movies['release_year'] = movies['title'].str.extract(r'\\((\\d{4})\\)').astype(float)\n",
        "\n",
        "ratings = ratings.merge(movies[['movieId','release_year']], on='movieId', how='left')\n",
        "ratings['rating_year'] = ratings['timestamp'].dt.year\n",
        "ratings['content_age'] = ratings['rating_year'] - ratings['release_year']\n",
        "\n",
        "user_age_pref = ratings.groupby('userId')['content_age'].mean().reset_index()\n",
        "median_age = user_age_pref['content_age'].median()\n",
        "\n",
        "user_age_pref['age_pref'] = np.where(user_age_pref['content_age'] >= median_age, \"retro\", \"trend\")\n",
        "\n",
        "ratings = ratings.merge(user_age_pref[['userId','age_pref']], on='userId', how='left')\n",
        "ratings['weight_ca'] = np.where(ratings['age_pref']==\"trend\", 1.1, 1.0)\n",
        "\n"
      ],
      "metadata": {
        "id": "tEMccBGYb4Z3"
      },
      "execution_count": 6,
      "outputs": []
    },
    {
      "cell_type": "markdown",
      "source": [
        "# **장르 선호도 가중치 설정**"
      ],
      "metadata": {
        "id": "5BsDanHYbcX4"
      }
    },
    {
      "cell_type": "code",
      "source": [
        "# 1. 장르 분리\n",
        "\n",
        "movies['genres_list'] = movies['genres'].str.split('|')\n",
        "\n",
        "# ratings에 genres_list 붙이기\n",
        "if 'genres_list' in ratings.columns:\n",
        "    ratings = ratings.drop(columns=['genres_list'])\n",
        "\n",
        "ratings = ratings.merge(movies[['movieId','genres_list']], on='movieId', how='left')\n",
        "\n",
        "# 장르별로 행 분리\n",
        "ratings_exploded = ratings.explode('genres_list')\n",
        "\n",
        "# 2. 유저별 장르별 평균 평점\n",
        "\n",
        "user_genre_pref = (\n",
        "    ratings_exploded\n",
        "    .groupby(['userId','genres_list'])['rating']\n",
        "    .mean()\n",
        "    .reset_index()\n",
        ")\n",
        "\n",
        "# 3. 각 유저별 상위 10% 장르 판별\n",
        "\n",
        "def top_genres(df):\n",
        "    cutoff = np.percentile(df['rating'], 90)  # 상위 10% 기준\n",
        "    df['is_top_genre'] = np.where(df['rating'] >= cutoff, 1, 0)\n",
        "    return df\n",
        "\n",
        "user_genre_pref = (\n",
        "    user_genre_pref\n",
        "    .groupby('userId')\n",
        "    .apply(top_genres)\n",
        "    .reset_index(drop=True)\n",
        ")\n",
        "\n",
        "# 4. ratings에 Top Genre 플래그/가중치 부여\n",
        "\n",
        "ratings_exploded = ratings_exploded.merge(\n",
        "    user_genre_pref[['userId','genres_list','is_top_genre']],\n",
        "    on=['userId','genres_list'], how='left'\n",
        ")\n",
        "\n",
        "ratings_exploded['weight_tg'] = np.where(ratings_exploded['is_top_genre']==1, 1.2, 1.0)\n"
      ],
      "metadata": {
        "colab": {
          "base_uri": "https://localhost:8080/"
        },
        "id": "iu2wsMqySMRw",
        "outputId": "6e8ba1fc-a08d-48c2-ba82-9ba029161480"
      },
      "execution_count": 7,
      "outputs": [
        {
          "output_type": "stream",
          "name": "stderr",
          "text": [
            "/tmp/ipython-input-3655198033.py:33: DeprecationWarning: DataFrameGroupBy.apply operated on the grouping columns. This behavior is deprecated, and in a future version of pandas the grouping columns will be excluded from the operation. Either pass `include_groups=False` to exclude the groupings or explicitly select the grouping columns after groupby to silence this warning.\n",
            "  .apply(top_genres)\n"
          ]
        }
      ]
    },
    {
      "cell_type": "markdown",
      "source": [
        "# **가중치 설정**"
      ],
      "metadata": {
        "id": "Hi06Lq2bbe-_"
      }
    },
    {
      "cell_type": "code",
      "source": [
        "# 최종 가중치\n",
        "ratings_exploded['final_weight'] = (\n",
        "    ratings_exploded['weight_hr'] *\n",
        "    ratings_exploded['weight_ca'] *\n",
        "    ratings_exploded['weight_tg']\n",
        ")\n",
        "\n",
        "ratings_exploded['weighted_rating'] = ratings_exploded['rating'] * ratings_exploded['final_weight']\n",
        "\n",
        "# 가중치 정규화\n",
        "max_rating = ratings_exploded['weighted_rating'].max()\n",
        "ratings_exploded['weighted_rating_norm'] = (\n",
        "    ratings_exploded['weighted_rating'] / max_rating * 5\n",
        ")\n"
      ],
      "metadata": {
        "id": "w_sKbQecSQL_"
      },
      "execution_count": 8,
      "outputs": []
    },
    {
      "cell_type": "markdown",
      "source": [
        "# **Random Search for 가중치**"
      ],
      "metadata": {
        "id": "uGaA2Udlcoe2"
      }
    },
    {
      "cell_type": "code",
      "source": [
        "!pip install scikit-surprise==1.1.3\n",
        "!pip install numpy==1.26.4  # surprise는 numpy<2 필요\n",
        "import pandas as pd\n",
        "from surprise import Dataset, Reader, SVD\n",
        "from surprise.model_selection import train_test_split\n",
        "from surprise import accuracy\n",
        "\n",
        "# -----------------------------\n",
        "# 1. 데이터 준비 (weighted_rating_norm 사용)\n",
        "# -----------------------------\n",
        "# surprise 형식: user, item, rating\n",
        "svd_data = ratings_exploded[['userId', 'movieId', 'weighted_rating_norm']]\n",
        "\n",
        "reader = Reader(rating_scale=(0.5, 5.0))\n",
        "data = Dataset.load_from_df(svd_data, reader)\n",
        "\n",
        "# -----------------------------\n",
        "# 2. Train/Test Split\n",
        "# -----------------------------\n",
        "trainset, testset = train_test_split(data, test_size=0.2, random_state=42)\n",
        "\n",
        "# -----------------------------\n",
        "# 3. SVD 모델 학습\n",
        "# -----------------------------\n",
        "model = SVD(n_factors=100, random_state=42)\n",
        "model.fit(trainset)\n",
        "\n",
        "# -----------------------------\n",
        "# 4. 모델 평가\n",
        "# -----------------------------\n",
        "predictions = model.test(testset)\n",
        "print(\"RMSE:\", accuracy.rmse(predictions))\n",
        "print(\"MAE:\", accuracy.mae(predictions))\n",
        "\n",
        "# -----------------------------\n",
        "# 5. 추천 함수\n",
        "# -----------------------------\n",
        "def recommend_for_user_svd(user_id, top_n=10):\n",
        "    # 이미 본 영화\n",
        "    seen_movies = svd_data[svd_data['userId']==user_id]['movieId'].unique()\n",
        "\n",
        "    # 전체 영화에 대한 예측\n",
        "    all_movies = svd_data['movieId'].unique()\n",
        "    preds = []\n",
        "    for mid in all_movies:\n",
        "        if mid not in seen_movies:\n",
        "            preds.append((mid, model.predict(user_id, mid).est))\n",
        "\n",
        "    # 정렬 후 top_n 추출\n",
        "    preds = sorted(preds, key=lambda x: x[1], reverse=True)[:top_n]\n",
        "    preds_df = pd.DataFrame(preds, columns=['movieId','predicted_rating'])\n",
        "\n",
        "    return preds_df.merge(movies[['movieId','title']], on='movieId', how='left')\n",
        "\n",
        "# -----------------------------\n",
        "# 6. 추천 테스트\n",
        "# -----------------------------\n",
        "print(recommend_for_user_svd(130520, top_n=10))\n"
      ],
      "metadata": {
        "colab": {
          "base_uri": "https://localhost:8080/"
        },
        "id": "n0FDoeFEcsd-",
        "outputId": "f6df09f7-4b2f-43db-ddf5-6a0434c701e0"
      },
      "execution_count": 9,
      "outputs": [
        {
          "output_type": "stream",
          "name": "stdout",
          "text": [
            "Collecting scikit-surprise==1.1.3\n",
            "  Using cached scikit-surprise-1.1.3.tar.gz (771 kB)\n",
            "  Preparing metadata (setup.py) ... \u001b[?25l\u001b[?25hdone\n",
            "Requirement already satisfied: joblib>=1.0.0 in /usr/local/lib/python3.12/dist-packages (from scikit-surprise==1.1.3) (1.5.2)\n",
            "Requirement already satisfied: numpy>=1.17.3 in /usr/local/lib/python3.12/dist-packages (from scikit-surprise==1.1.3) (1.26.4)\n",
            "Requirement already satisfied: scipy>=1.3.2 in /usr/local/lib/python3.12/dist-packages (from scikit-surprise==1.1.3) (1.16.2)\n",
            "Building wheels for collected packages: scikit-surprise\n",
            "  Building wheel for scikit-surprise (setup.py) ... \u001b[?25l\u001b[?25hdone\n",
            "  Created wheel for scikit-surprise: filename=scikit_surprise-1.1.3-cp312-cp312-linux_x86_64.whl size=3513885 sha256=be083f061cf36b9bc6dc2c91bb297ca7c981cef1c5f04ec1872a173c34450117\n",
            "  Stored in directory: /root/.cache/pip/wheels/ee/08/67/4176eedbed1c63c15db21a526f1893ca43ee8453182a239afc\n",
            "Successfully built scikit-surprise\n",
            "Installing collected packages: scikit-surprise\n",
            "  Attempting uninstall: scikit-surprise\n",
            "    Found existing installation: scikit-surprise 1.1.4\n",
            "    Uninstalling scikit-surprise-1.1.4:\n",
            "      Successfully uninstalled scikit-surprise-1.1.4\n",
            "Successfully installed scikit-surprise-1.1.3\n",
            "Requirement already satisfied: numpy==1.26.4 in /usr/local/lib/python3.12/dist-packages (1.26.4)\n",
            "RMSE: 0.4678\n",
            "RMSE: 0.4677924111459172\n",
            "MAE:  0.3492\n",
            "MAE: 0.3491655402134502\n",
            "   movieId  predicted_rating  \\\n",
            "0    82143          4.092810   \n",
            "1    99986          3.918696   \n",
            "2    92475          3.900218   \n",
            "3     7335          3.897162   \n",
            "4    26471          3.878220   \n",
            "5     3077          3.870368   \n",
            "6    89985          3.855970   \n",
            "7   134244          3.853515   \n",
            "8    50740          3.851455   \n",
            "9    90592          3.849898   \n",
            "\n",
            "                                               title  \n",
            "0                     Alone in the Wilderness (2004)  \n",
            "1     Marina Abramovic: The Artist Is Present (2012)  \n",
            "2  All Watched Over by Machines of Loving Grace (...  \n",
            "3                      Pickup on South Street (1953)  \n",
            "4                      Eddie Murphy Delirious (1983)  \n",
            "5                                       42 Up (1998)  \n",
            "6  Trap: What Happened to Our Dream of Freedom, T...  \n",
            "7                                  Streetwise (1984)  \n",
            "8                                   Seven Up! (1964)  \n",
            "9                        How to Die in Oregon (2011)  \n"
          ]
        }
      ]
    },
    {
      "cell_type": "markdown",
      "source": [
        "# **간단 알고리즘**"
      ],
      "metadata": {
        "id": "U3aBlIE0bh1H"
      }
    },
    {
      "cell_type": "code",
      "source": [
        "# -----------------------------\n",
        "# 1. (userId, movieId) 단위로 집계\n",
        "# -----------------------------\n",
        "user_movie_ratings = (\n",
        "    ratings_exploded\n",
        "    .groupby(['userId','movieId'])['weighted_rating']\n",
        "    .mean()   # 장르 explode된 영화들 평균\n",
        "    .reset_index()\n",
        ")\n",
        "\n",
        "# -----------------------------\n",
        "# 2. User-Item Matrix 생성\n",
        "# -----------------------------\n",
        "user_item_matrix = user_movie_ratings.pivot(\n",
        "    index=\"userId\", columns=\"movieId\", values=\"weighted_rating\"\n",
        ").fillna(0)\n",
        "\n",
        "# -----------------------------\n",
        "# 3. KNN 모델 학습 (사용자 기반)\n",
        "# -----------------------------\n",
        "from scipy.sparse import csr_matrix\n",
        "from sklearn.neighbors import NearestNeighbors\n",
        "\n",
        "sparse_matrix = csr_matrix(user_item_matrix.values)\n",
        "\n",
        "model_knn = NearestNeighbors(metric=\"cosine\", algorithm=\"brute\")\n",
        "model_knn.fit(sparse_matrix)\n",
        "\n",
        "# -----------------------------\n",
        "# 4. 추천 함수 정의\n",
        "# -----------------------------\n",
        "def recommend_for_user(user_id, n_neighbors=5, top_n=10):\n",
        "    if user_id not in user_item_matrix.index:\n",
        "        raise ValueError(f\"userId {user_id} not found in data\")\n",
        "\n",
        "    # 유저 인덱스 찾기\n",
        "    user_index = user_item_matrix.index.get_loc(user_id)\n",
        "\n",
        "    # 가까운 이웃 유저 탐색\n",
        "    distances, indices = model_knn.kneighbors(\n",
        "        sparse_matrix[user_index], n_neighbors=n_neighbors+1\n",
        "    )\n",
        "\n",
        "    # 자기 자신 제외\n",
        "    neighbor_ids = [user_item_matrix.index[i] for i in indices.flatten() if i != user_index]\n",
        "\n",
        "    # 이웃 유저들의 평점 가져오기\n",
        "    neighbor_ratings = user_movie_ratings[user_movie_ratings['userId'].isin(neighbor_ids)]\n",
        "\n",
        "    # 내가 이미 본 영화 제외\n",
        "    seen_movies = user_movie_ratings[user_movie_ratings['userId']==user_id]['movieId'].unique()\n",
        "\n",
        "    candidate_movies = (\n",
        "        neighbor_ratings[~neighbor_ratings['movieId'].isin(seen_movies)]\n",
        "        .groupby('movieId')['weighted_rating']\n",
        "        .mean()\n",
        "        .sort_values(ascending=False)\n",
        "        .head(top_n)\n",
        "        .reset_index()\n",
        "    )\n",
        "\n",
        "    # 영화 제목 붙이기\n",
        "    candidate_movies = candidate_movies.merge(\n",
        "        movies[['movieId','title']], on='movieId', how='left'\n",
        "    )\n",
        "\n",
        "    return candidate_movies\n"
      ],
      "metadata": {
        "id": "wSZRP8JESy0V"
      },
      "execution_count": 10,
      "outputs": []
    },
    {
      "cell_type": "code",
      "source": [
        "import random\n",
        "\n",
        "# 현재 user_item_matrix에 존재하는 유저들\n",
        "all_users = user_item_matrix.index.tolist()\n",
        "\n",
        "# 랜덤으로 한 명 뽑기\n",
        "random_user = random.choice(all_users)\n",
        "print(\"추천 테스트 유저 ID:\", random_user)\n",
        "\n",
        "# 추천 실행\n",
        "print(recommend_for_user(random_user, n_neighbors=5, top_n=10))\n"
      ],
      "metadata": {
        "colab": {
          "base_uri": "https://localhost:8080/"
        },
        "id": "6QzCewmXUOgg",
        "outputId": "bc93e4de-07c3-473d-e9b8-11effb4993de"
      },
      "execution_count": 11,
      "outputs": [
        {
          "output_type": "stream",
          "name": "stdout",
          "text": [
            "추천 테스트 유저 ID: 69476\n",
            "   movieId  weighted_rating                                              title\n",
            "0   171495             7.92                                             Cosmos\n",
            "1   183869             7.92                                  Hereditary (2018)\n",
            "2     6947             7.04  Master and Commander: The Far Side of the Worl...\n",
            "3    55052             7.04                                   Atonement (2007)\n",
            "4     1682             6.60                            Truman Show, The (1998)\n",
            "5     1485             6.60                                   Liar Liar (1997)\n",
            "6    55721             6.60                Elite Squad (Tropa de Elite) (2007)\n",
            "7   140267             6.60                                   The Witch (2015)\n",
            "8    94959             6.60                            Moonrise Kingdom (2012)\n",
            "9     1266             6.60                                  Unforgiven (1992)\n"
          ]
        }
      ]
    },
    {
      "cell_type": "code",
      "source": [],
      "metadata": {
        "id": "JKRKRRwoagMI"
      },
      "execution_count": 11,
      "outputs": []
    }
  ]
}